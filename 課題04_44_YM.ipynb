{
  "nbformat": 4,
  "nbformat_minor": 0,
  "metadata": {
    "colab": {
      "provenance": [],
      "include_colab_link": true
    },
    "kernelspec": {
      "name": "python3",
      "display_name": "Python 3"
    },
    "language_info": {
      "name": "python"
    }
  },
  "cells": [
    {
      "cell_type": "markdown",
      "metadata": {
        "id": "view-in-github",
        "colab_type": "text"
      },
      "source": [
        "<a href=\"https://colab.research.google.com/github/minom273/portfolio/blob/main/%E8%AA%B2%E9%A1%8C04_44_YM.ipynb\" target=\"_parent\"><img src=\"https://colab.research.google.com/assets/colab-badge.svg\" alt=\"Open In Colab\"/></a>"
      ]
    },
    {
      "cell_type": "markdown",
      "source": [
        "# **プログラムの名称**\n",
        "ダイスロール\n",
        "## **概要**\n",
        "\n",
        "TRPGに使用するダイスを振ることのできるプログラムです。1D100で振る場合はクリティカルとファンブルの判定もできます。\n",
        "\n",
        "## **操作方法**\n",
        "\n",
        "「ダイス数」の欄に振るダイスの数、「ダイス面」に振りたいダイスの面数を入力します。実行すると入力した面数のダイスを入力した数だけ振り、その合計が出力されます。また、「技能値」の欄に数値を入れると、そこに入力した数値より出力された数値が大きいとき『失敗』、小さいとき『成功』といった判定を加えることができます。\n",
        "## **制作者のコメント**\n",
        "\n",
        "友人たちとTRPGをやることになった際に思いついたものです。どんな機能があれば嬉しいのか、実際にTRPGをよく遊ぶ友人たちと相談しながら作成しました。ただ、TRPGのルールを調べてもスペシャルの判定についてあまりよく理解できず、今回判定の実装は見送ることになってしまいました。\n",
        "\n",
        "## **作成時間**\n",
        "\n",
        "作成時間：**約16時間**\n",
        "\n"
      ],
      "metadata": {
        "id": "EnMqIC7OaqQh"
      }
    },
    {
      "cell_type": "code",
      "source": [
        "%reset -f\n",
        "import random\n",
        "\n",
        "#@markdown # **ダイスロール**\n",
        "#@markdown **ダイス数**\n",
        "d_count = 1  # @param {type:\"number\"}\n",
        "#@markdown **ダイス面**\n",
        "d_sides = 100  # @param {type:\"number\"}\n",
        "\n",
        "\n",
        "\n",
        "for i in range(d_count):\n",
        "\n",
        "  dice_num = random.randint(d_count,d_sides) # 1D100\n",
        "  #@markdown **技能値**\n",
        "  s_level = 200 #@param {tipe:\"number\"}\n",
        "  if s_level >= d_count * d_sides :\n",
        "    print(f'⚠技能値が大きすぎます')\n",
        "  else :\n",
        "    print(f'結果:{dice_num}')\n",
        "    print(f'「',end='')\n",
        "    if d_count == 1 and d_sides == 100:\n",
        "       if dice_num <=5 :\n",
        "          print('決定的成功',end='')\n",
        "       elif dice_num <= s_level :  # 末尾のコロン (:) を忘れがちなので注意\n",
        "          print('成功',end='')\n",
        "       elif dice_num <=95 :\n",
        "          print('失敗',end='')\n",
        "       else :             # 末尾のコロン (:) を忘れがちなので注意\n",
        "          print('致命的失敗',end='')\n",
        "    elif dice_num <= s_level :\n",
        "        print('成功',end='')\n",
        "    else :\n",
        "        print('失敗',end='')\n",
        "    print('」')"
      ],
      "metadata": {
        "id": "iuv-fXQvatYE",
        "colab": {
          "base_uri": "https://localhost:8080/"
        },
        "outputId": "011326cb-1804-498d-8fcc-c7bb6ea3bba0"
      },
      "execution_count": null,
      "outputs": [
        {
          "output_type": "stream",
          "name": "stdout",
          "text": [
            "⚠技能値が大きすぎます\n"
          ]
        }
      ]
    }
  ]
}